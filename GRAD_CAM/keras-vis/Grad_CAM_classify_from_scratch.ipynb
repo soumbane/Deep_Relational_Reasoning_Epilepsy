{
 "cells": [
  {
   "cell_type": "code",
   "execution_count": 12,
   "metadata": {},
   "outputs": [],
   "source": [
    "import numpy as np\n",
    "import os\n",
    "import keras\n",
    "import tensorflow as tf\n",
    "import matplotlib.pyplot as plt\n",
    "import scipy.io as sio\n",
    "import vis\n",
    "import json\n",
    "from keras.models import model_from_json, load_model\n",
    "from keras.models import Sequential\n",
    "from keras.layers import Dense, Dropout, Activation, Flatten\n",
    "from keras.layers import Conv2D, MaxPooling2D\n",
    "from sklearn.metrics import classification_report\n",
    "from sklearn.metrics import f1_score\n",
    "from keras.utils import to_categorical\n"
   ]
  },
  {
   "cell_type": "markdown",
   "metadata": {},
   "source": [
    "## Read pre-trained model"
   ]
  },
  {
   "cell_type": "code",
   "execution_count": 2,
   "metadata": {},
   "outputs": [
    {
     "name": "stdout",
     "output_type": "stream",
     "text": [
      "WARNING:tensorflow:From /home/soumyanil/.virtualenvs/dl4cv/lib/python3.6/site-packages/tensorflow/python/framework/op_def_library.py:263: colocate_with (from tensorflow.python.framework.ops) is deprecated and will be removed in a future version.\n",
      "Instructions for updating:\n",
      "Colocations handled automatically by placer.\n",
      "WARNING:tensorflow:From /home/soumyanil/.virtualenvs/dl4cv/lib/python3.6/site-packages/keras/backend/tensorflow_backend.py:3445: calling dropout (from tensorflow.python.ops.nn_ops) with keep_prob is deprecated and will be removed in a future version.\n",
      "Instructions for updating:\n",
      "Please use `rate` instead of `keep_prob`. Rate should be set to `rate = 1 - keep_prob`.\n",
      "__________________________________________________________________________________________________\n",
      "Layer (type)                    Output Shape         Param #     Connected to                     \n",
      "==================================================================================================\n",
      "input_1 (InputLayer)            (None, 116, 116, 1)  0                                            \n",
      "__________________________________________________________________________________________________\n",
      "conv2d_1 (Conv2D)               (None, 114, 114, 32) 320         input_1[0][0]                    \n",
      "__________________________________________________________________________________________________\n",
      "leaky_re_lu_1 (LeakyReLU)       (None, 114, 114, 32) 0           conv2d_1[0][0]                   \n",
      "__________________________________________________________________________________________________\n",
      "max_pooling2d_1 (MaxPooling2D)  (None, 57, 57, 32)   0           leaky_re_lu_1[0][0]              \n",
      "__________________________________________________________________________________________________\n",
      "batch_normalization_1 (BatchNor (None, 57, 57, 32)   128         max_pooling2d_1[0][0]            \n",
      "__________________________________________________________________________________________________\n",
      "conv2d_2 (Conv2D)               (None, 55, 55, 32)   9248        batch_normalization_1[0][0]      \n",
      "__________________________________________________________________________________________________\n",
      "leaky_re_lu_2 (LeakyReLU)       (None, 55, 55, 32)   0           conv2d_2[0][0]                   \n",
      "__________________________________________________________________________________________________\n",
      "max_pooling2d_2 (MaxPooling2D)  (None, 27, 27, 32)   0           leaky_re_lu_2[0][0]              \n",
      "__________________________________________________________________________________________________\n",
      "batch_normalization_2 (BatchNor (None, 27, 27, 32)   128         max_pooling2d_2[0][0]            \n",
      "__________________________________________________________________________________________________\n",
      "conv2d_3 (Conv2D)               (None, 23, 23, 32)   9248        batch_normalization_2[0][0]      \n",
      "__________________________________________________________________________________________________\n",
      "leaky_re_lu_3 (LeakyReLU)       (None, 23, 23, 32)   0           conv2d_3[0][0]                   \n",
      "__________________________________________________________________________________________________\n",
      "max_pooling2d_3 (MaxPooling2D)  (None, 11, 11, 32)   0           leaky_re_lu_3[0][0]              \n",
      "__________________________________________________________________________________________________\n",
      "batch_normalization_3 (BatchNor (None, 11, 11, 32)   128         max_pooling2d_3[0][0]            \n",
      "__________________________________________________________________________________________________\n",
      "conv2d_4 (Conv2D)               (None, 7, 7, 32)     9248        batch_normalization_3[0][0]      \n",
      "__________________________________________________________________________________________________\n",
      "leaky_re_lu_4 (LeakyReLU)       (None, 7, 7, 32)     0           conv2d_4[0][0]                   \n",
      "__________________________________________________________________________________________________\n",
      "max_pooling2d_4 (MaxPooling2D)  (None, 3, 3, 32)     0           leaky_re_lu_4[0][0]              \n",
      "__________________________________________________________________________________________________\n",
      "batch_normalization_4 (BatchNor (None, 3, 3, 32)     128         max_pooling2d_4[0][0]            \n",
      "__________________________________________________________________________________________________\n",
      "lambda_1 (Lambda)               (None, 3, 32)        0           batch_normalization_4[0][0]      \n",
      "                                                                 lambda_2[0][0]                   \n",
      "                                                                 lambda_2[1][0]                   \n",
      "__________________________________________________________________________________________________\n",
      "lambda_2 (Lambda)               multiple             0           batch_normalization_4[0][0]      \n",
      "                                                                 lambda_2[0][0]                   \n",
      "__________________________________________________________________________________________________\n",
      "lambda_4 (Lambda)               multiple             0           lambda_1[0][0]                   \n",
      "                                                                 lambda_4[0][0]                   \n",
      "                                                                 lambda_1[1][0]                   \n",
      "                                                                 lambda_4[2][0]                   \n",
      "                                                                 lambda_1[2][0]                   \n",
      "                                                                 lambda_4[4][0]                   \n",
      "__________________________________________________________________________________________________\n",
      "lambda_3 (Lambda)               (None, 32)           0           lambda_1[0][0]                   \n",
      "                                                                 lambda_4[0][0]                   \n",
      "                                                                 lambda_4[1][0]                   \n",
      "                                                                 lambda_1[1][0]                   \n",
      "                                                                 lambda_4[2][0]                   \n",
      "                                                                 lambda_4[3][0]                   \n",
      "                                                                 lambda_1[2][0]                   \n",
      "                                                                 lambda_4[4][0]                   \n",
      "                                                                 lambda_4[5][0]                   \n",
      "__________________________________________________________________________________________________\n",
      "concatenate_1 (Concatenate)     (None, 64)           0           lambda_3[0][0]                   \n",
      "                                                                 lambda_3[0][0]                   \n",
      "                                                                 lambda_3[0][0]                   \n",
      "                                                                 lambda_3[1][0]                   \n",
      "                                                                 lambda_3[0][0]                   \n",
      "                                                                 lambda_3[2][0]                   \n",
      "                                                                 lambda_3[1][0]                   \n",
      "                                                                 lambda_3[0][0]                   \n",
      "                                                                 lambda_3[1][0]                   \n",
      "                                                                 lambda_3[1][0]                   \n",
      "                                                                 lambda_3[1][0]                   \n",
      "                                                                 lambda_3[2][0]                   \n",
      "                                                                 lambda_3[2][0]                   \n",
      "                                                                 lambda_3[0][0]                   \n",
      "                                                                 lambda_3[2][0]                   \n",
      "                                                                 lambda_3[1][0]                   \n",
      "                                                                 lambda_3[2][0]                   \n",
      "                                                                 lambda_3[2][0]                   \n",
      "                                                                 lambda_3[0][0]                   \n",
      "                                                                 lambda_3[3][0]                   \n",
      "                                                                 lambda_3[0][0]                   \n",
      "                                                                 lambda_3[4][0]                   \n",
      "                                                                 lambda_3[0][0]                   \n",
      "                                                                 lambda_3[5][0]                   \n",
      "                                                                 lambda_3[0][0]                   \n",
      "                                                                 lambda_3[6][0]                   \n",
      "                                                                 lambda_3[0][0]                   \n",
      "                                                                 lambda_3[7][0]                   \n",
      "                                                                 lambda_3[0][0]                   \n",
      "                                                                 lambda_3[8][0]                   \n",
      "                                                                 lambda_3[1][0]                   \n",
      "                                                                 lambda_3[3][0]                   \n",
      "                                                                 lambda_3[1][0]                   \n",
      "                                                                 lambda_3[4][0]                   \n",
      "                                                                 lambda_3[1][0]                   \n",
      "                                                                 lambda_3[5][0]                   \n",
      "                                                                 lambda_3[1][0]                   \n",
      "                                                                 lambda_3[6][0]                   \n",
      "                                                                 lambda_3[1][0]                   \n",
      "                                                                 lambda_3[7][0]                   \n",
      "                                                                 lambda_3[1][0]                   \n",
      "                                                                 lambda_3[8][0]                   \n",
      "                                                                 lambda_3[2][0]                   \n",
      "                                                                 lambda_3[3][0]                   \n",
      "                                                                 lambda_3[2][0]                   \n",
      "                                                                 lambda_3[4][0]                   \n",
      "                                                                 lambda_3[2][0]                   \n",
      "                                                                 lambda_3[5][0]                   \n",
      "                                                                 lambda_3[2][0]                   \n",
      "                                                                 lambda_3[6][0]                   \n",
      "                                                                 lambda_3[2][0]                   \n",
      "                                                                 lambda_3[7][0]                   \n",
      "                                                                 lambda_3[2][0]                   \n",
      "                                                                 lambda_3[8][0]                   \n",
      "                                                                 lambda_3[3][0]                   \n",
      "                                                                 lambda_3[0][0]                   \n",
      "                                                                 lambda_3[3][0]                   \n",
      "                                                                 lambda_3[1][0]                   \n",
      "                                                                 lambda_3[3][0]                   \n",
      "                                                                 lambda_3[2][0]                   \n",
      "                                                                 lambda_3[3][0]                   \n",
      "                                                                 lambda_3[3][0]                   \n",
      "                                                                 lambda_3[3][0]                   \n",
      "                                                                 lambda_3[4][0]                   \n",
      "                                                                 lambda_3[3][0]                   \n",
      "                                                                 lambda_3[5][0]                   \n",
      "                                                                 lambda_3[3][0]                   \n",
      "                                                                 lambda_3[6][0]                   \n",
      "                                                                 lambda_3[3][0]                   \n",
      "                                                                 lambda_3[7][0]                   \n",
      "                                                                 lambda_3[3][0]                   \n",
      "                                                                 lambda_3[8][0]                   \n",
      "                                                                 lambda_3[4][0]                   \n",
      "                                                                 lambda_3[0][0]                   \n",
      "                                                                 lambda_3[4][0]                   \n",
      "                                                                 lambda_3[1][0]                   \n",
      "                                                                 lambda_3[4][0]                   \n",
      "                                                                 lambda_3[2][0]                   \n",
      "                                                                 lambda_3[4][0]                   \n",
      "                                                                 lambda_3[3][0]                   \n",
      "                                                                 lambda_3[4][0]                   \n",
      "                                                                 lambda_3[4][0]                   \n",
      "                                                                 lambda_3[4][0]                   \n",
      "                                                                 lambda_3[5][0]                   \n",
      "                                                                 lambda_3[4][0]                   \n",
      "                                                                 lambda_3[6][0]                   \n",
      "                                                                 lambda_3[4][0]                   \n",
      "                                                                 lambda_3[7][0]                   \n",
      "                                                                 lambda_3[4][0]                   \n",
      "                                                                 lambda_3[8][0]                   \n",
      "                                                                 lambda_3[5][0]                   \n",
      "                                                                 lambda_3[0][0]                   \n",
      "                                                                 lambda_3[5][0]                   \n",
      "                                                                 lambda_3[1][0]                   \n",
      "                                                                 lambda_3[5][0]                   \n",
      "                                                                 lambda_3[2][0]                   \n",
      "                                                                 lambda_3[5][0]                   \n",
      "                                                                 lambda_3[3][0]                   \n",
      "                                                                 lambda_3[5][0]                   \n",
      "                                                                 lambda_3[4][0]                   \n",
      "                                                                 lambda_3[5][0]                   \n",
      "                                                                 lambda_3[5][0]                   \n",
      "                                                                 lambda_3[5][0]                   \n",
      "                                                                 lambda_3[6][0]                   \n",
      "                                                                 lambda_3[5][0]                   \n",
      "                                                                 lambda_3[7][0]                   \n",
      "                                                                 lambda_3[5][0]                   \n",
      "                                                                 lambda_3[8][0]                   \n",
      "                                                                 lambda_3[6][0]                   \n",
      "                                                                 lambda_3[0][0]                   \n",
      "                                                                 lambda_3[6][0]                   \n",
      "                                                                 lambda_3[1][0]                   \n",
      "                                                                 lambda_3[6][0]                   \n",
      "                                                                 lambda_3[2][0]                   \n",
      "                                                                 lambda_3[6][0]                   \n",
      "                                                                 lambda_3[3][0]                   \n",
      "                                                                 lambda_3[6][0]                   \n",
      "                                                                 lambda_3[4][0]                   \n",
      "                                                                 lambda_3[6][0]                   \n",
      "                                                                 lambda_3[5][0]                   \n",
      "                                                                 lambda_3[6][0]                   \n",
      "                                                                 lambda_3[6][0]                   \n",
      "                                                                 lambda_3[6][0]                   \n",
      "                                                                 lambda_3[7][0]                   \n",
      "                                                                 lambda_3[6][0]                   \n",
      "                                                                 lambda_3[8][0]                   \n",
      "                                                                 lambda_3[7][0]                   \n",
      "                                                                 lambda_3[0][0]                   \n",
      "                                                                 lambda_3[7][0]                   \n",
      "                                                                 lambda_3[1][0]                   \n",
      "                                                                 lambda_3[7][0]                   \n",
      "                                                                 lambda_3[2][0]                   \n",
      "                                                                 lambda_3[7][0]                   \n",
      "                                                                 lambda_3[3][0]                   \n",
      "                                                                 lambda_3[7][0]                   \n",
      "                                                                 lambda_3[4][0]                   \n",
      "                                                                 lambda_3[7][0]                   \n",
      "                                                                 lambda_3[5][0]                   \n",
      "                                                                 lambda_3[7][0]                   \n",
      "                                                                 lambda_3[6][0]                   \n",
      "                                                                 lambda_3[7][0]                   \n",
      "                                                                 lambda_3[7][0]                   \n",
      "                                                                 lambda_3[7][0]                   \n",
      "                                                                 lambda_3[8][0]                   \n",
      "                                                                 lambda_3[8][0]                   \n",
      "                                                                 lambda_3[0][0]                   \n",
      "                                                                 lambda_3[8][0]                   \n",
      "                                                                 lambda_3[1][0]                   \n",
      "                                                                 lambda_3[8][0]                   \n",
      "                                                                 lambda_3[2][0]                   \n",
      "                                                                 lambda_3[8][0]                   \n",
      "                                                                 lambda_3[3][0]                   \n",
      "                                                                 lambda_3[8][0]                   \n",
      "                                                                 lambda_3[4][0]                   \n",
      "                                                                 lambda_3[8][0]                   \n",
      "                                                                 lambda_3[5][0]                   \n",
      "                                                                 lambda_3[8][0]                   \n",
      "                                                                 lambda_3[6][0]                   \n",
      "                                                                 lambda_3[8][0]                   \n",
      "                                                                 lambda_3[7][0]                   \n",
      "                                                                 lambda_3[8][0]                   \n",
      "                                                                 lambda_3[8][0]                   \n",
      "__________________________________________________________________________________________________\n",
      "dense_1 (Dense)                 (None, 512)          33280       concatenate_1[0][0]              \n",
      "                                                                 concatenate_1[1][0]              \n",
      "                                                                 concatenate_1[2][0]              \n",
      "                                                                 concatenate_1[3][0]              \n",
      "                                                                 concatenate_1[4][0]              \n",
      "                                                                 concatenate_1[5][0]              \n",
      "                                                                 concatenate_1[6][0]              \n",
      "                                                                 concatenate_1[7][0]              \n",
      "                                                                 concatenate_1[8][0]              \n",
      "                                                                 concatenate_1[9][0]              \n",
      "                                                                 concatenate_1[10][0]             \n",
      "                                                                 concatenate_1[11][0]             \n",
      "                                                                 concatenate_1[12][0]             \n",
      "                                                                 concatenate_1[13][0]             \n",
      "                                                                 concatenate_1[14][0]             \n",
      "                                                                 concatenate_1[15][0]             \n",
      "                                                                 concatenate_1[16][0]             \n",
      "                                                                 concatenate_1[17][0]             \n",
      "                                                                 concatenate_1[18][0]             \n",
      "                                                                 concatenate_1[19][0]             \n",
      "                                                                 concatenate_1[20][0]             \n",
      "                                                                 concatenate_1[21][0]             \n",
      "                                                                 concatenate_1[22][0]             \n",
      "                                                                 concatenate_1[23][0]             \n",
      "                                                                 concatenate_1[24][0]             \n",
      "                                                                 concatenate_1[25][0]             \n",
      "                                                                 concatenate_1[26][0]             \n",
      "                                                                 concatenate_1[27][0]             \n",
      "                                                                 concatenate_1[28][0]             \n",
      "                                                                 concatenate_1[29][0]             \n",
      "                                                                 concatenate_1[30][0]             \n",
      "                                                                 concatenate_1[31][0]             \n",
      "                                                                 concatenate_1[32][0]             \n",
      "                                                                 concatenate_1[33][0]             \n",
      "                                                                 concatenate_1[34][0]             \n",
      "                                                                 concatenate_1[35][0]             \n",
      "                                                                 concatenate_1[36][0]             \n",
      "                                                                 concatenate_1[37][0]             \n",
      "                                                                 concatenate_1[38][0]             \n",
      "                                                                 concatenate_1[39][0]             \n",
      "                                                                 concatenate_1[40][0]             \n",
      "                                                                 concatenate_1[41][0]             \n",
      "                                                                 concatenate_1[42][0]             \n",
      "                                                                 concatenate_1[43][0]             \n",
      "                                                                 concatenate_1[44][0]             \n",
      "                                                                 concatenate_1[45][0]             \n",
      "                                                                 concatenate_1[46][0]             \n",
      "                                                                 concatenate_1[47][0]             \n",
      "                                                                 concatenate_1[48][0]             \n",
      "                                                                 concatenate_1[49][0]             \n",
      "                                                                 concatenate_1[50][0]             \n",
      "                                                                 concatenate_1[51][0]             \n",
      "                                                                 concatenate_1[52][0]             \n",
      "                                                                 concatenate_1[53][0]             \n",
      "                                                                 concatenate_1[54][0]             \n",
      "                                                                 concatenate_1[55][0]             \n",
      "                                                                 concatenate_1[56][0]             \n",
      "                                                                 concatenate_1[57][0]             \n",
      "                                                                 concatenate_1[58][0]             \n",
      "                                                                 concatenate_1[59][0]             \n",
      "                                                                 concatenate_1[60][0]             \n",
      "                                                                 concatenate_1[61][0]             \n",
      "                                                                 concatenate_1[62][0]             \n",
      "                                                                 concatenate_1[63][0]             \n",
      "                                                                 concatenate_1[64][0]             \n",
      "                                                                 concatenate_1[65][0]             \n",
      "                                                                 concatenate_1[66][0]             \n",
      "                                                                 concatenate_1[67][0]             \n",
      "                                                                 concatenate_1[68][0]             \n",
      "                                                                 concatenate_1[69][0]             \n",
      "                                                                 concatenate_1[70][0]             \n",
      "                                                                 concatenate_1[71][0]             \n",
      "                                                                 concatenate_1[72][0]             \n",
      "                                                                 concatenate_1[73][0]             \n",
      "                                                                 concatenate_1[74][0]             \n",
      "                                                                 concatenate_1[75][0]             \n",
      "                                                                 concatenate_1[76][0]             \n",
      "                                                                 concatenate_1[77][0]             \n",
      "                                                                 concatenate_1[78][0]             \n",
      "                                                                 concatenate_1[79][0]             \n",
      "                                                                 concatenate_1[80][0]             \n",
      "__________________________________________________________________________________________________\n",
      "leaky_re_lu_5 (LeakyReLU)       (None, 512)          0           dense_1[0][0]                    \n",
      "                                                                 dense_1[1][0]                    \n",
      "                                                                 dense_1[2][0]                    \n",
      "                                                                 dense_1[3][0]                    \n",
      "                                                                 dense_1[4][0]                    \n",
      "                                                                 dense_1[5][0]                    \n",
      "                                                                 dense_1[6][0]                    \n",
      "                                                                 dense_1[7][0]                    \n",
      "                                                                 dense_1[8][0]                    \n",
      "                                                                 dense_1[9][0]                    \n",
      "                                                                 dense_1[10][0]                   \n",
      "                                                                 dense_1[11][0]                   \n",
      "                                                                 dense_1[12][0]                   \n",
      "                                                                 dense_1[13][0]                   \n",
      "                                                                 dense_1[14][0]                   \n",
      "                                                                 dense_1[15][0]                   \n",
      "                                                                 dense_1[16][0]                   \n",
      "                                                                 dense_1[17][0]                   \n",
      "                                                                 dense_1[18][0]                   \n",
      "                                                                 dense_1[19][0]                   \n",
      "                                                                 dense_1[20][0]                   \n",
      "                                                                 dense_1[21][0]                   \n",
      "                                                                 dense_1[22][0]                   \n",
      "                                                                 dense_1[23][0]                   \n",
      "                                                                 dense_1[24][0]                   \n",
      "                                                                 dense_1[25][0]                   \n",
      "                                                                 dense_1[26][0]                   \n",
      "                                                                 dense_1[27][0]                   \n",
      "                                                                 dense_1[28][0]                   \n",
      "                                                                 dense_1[29][0]                   \n",
      "                                                                 dense_1[30][0]                   \n",
      "                                                                 dense_1[31][0]                   \n",
      "                                                                 dense_1[32][0]                   \n",
      "                                                                 dense_1[33][0]                   \n",
      "                                                                 dense_1[34][0]                   \n",
      "                                                                 dense_1[35][0]                   \n",
      "                                                                 dense_1[36][0]                   \n",
      "                                                                 dense_1[37][0]                   \n",
      "                                                                 dense_1[38][0]                   \n",
      "                                                                 dense_1[39][0]                   \n",
      "                                                                 dense_1[40][0]                   \n",
      "                                                                 dense_1[41][0]                   \n",
      "                                                                 dense_1[42][0]                   \n",
      "                                                                 dense_1[43][0]                   \n",
      "                                                                 dense_1[44][0]                   \n",
      "                                                                 dense_1[45][0]                   \n",
      "                                                                 dense_1[46][0]                   \n",
      "                                                                 dense_1[47][0]                   \n",
      "                                                                 dense_1[48][0]                   \n",
      "                                                                 dense_1[49][0]                   \n",
      "                                                                 dense_1[50][0]                   \n",
      "                                                                 dense_1[51][0]                   \n",
      "                                                                 dense_1[52][0]                   \n",
      "                                                                 dense_1[53][0]                   \n",
      "                                                                 dense_1[54][0]                   \n",
      "                                                                 dense_1[55][0]                   \n",
      "                                                                 dense_1[56][0]                   \n",
      "                                                                 dense_1[57][0]                   \n",
      "                                                                 dense_1[58][0]                   \n",
      "                                                                 dense_1[59][0]                   \n",
      "                                                                 dense_1[60][0]                   \n",
      "                                                                 dense_1[61][0]                   \n",
      "                                                                 dense_1[62][0]                   \n",
      "                                                                 dense_1[63][0]                   \n",
      "                                                                 dense_1[64][0]                   \n",
      "                                                                 dense_1[65][0]                   \n",
      "                                                                 dense_1[66][0]                   \n",
      "                                                                 dense_1[67][0]                   \n",
      "                                                                 dense_1[68][0]                   \n",
      "                                                                 dense_1[69][0]                   \n",
      "                                                                 dense_1[70][0]                   \n",
      "                                                                 dense_1[71][0]                   \n",
      "                                                                 dense_1[72][0]                   \n",
      "                                                                 dense_1[73][0]                   \n",
      "                                                                 dense_1[74][0]                   \n",
      "                                                                 dense_1[75][0]                   \n",
      "                                                                 dense_1[76][0]                   \n",
      "                                                                 dense_1[77][0]                   \n",
      "                                                                 dense_1[78][0]                   \n",
      "                                                                 dense_1[79][0]                   \n",
      "                                                                 dense_1[80][0]                   \n",
      "__________________________________________________________________________________________________\n",
      "dense_2 (Dense)                 (None, 512)          262656      leaky_re_lu_5[0][0]              \n",
      "                                                                 leaky_re_lu_5[1][0]              \n",
      "                                                                 leaky_re_lu_5[2][0]              \n",
      "                                                                 leaky_re_lu_5[3][0]              \n",
      "                                                                 leaky_re_lu_5[4][0]              \n",
      "                                                                 leaky_re_lu_5[5][0]              \n",
      "                                                                 leaky_re_lu_5[6][0]              \n",
      "                                                                 leaky_re_lu_5[7][0]              \n",
      "                                                                 leaky_re_lu_5[8][0]              \n",
      "                                                                 leaky_re_lu_5[9][0]              \n",
      "                                                                 leaky_re_lu_5[10][0]             \n",
      "                                                                 leaky_re_lu_5[11][0]             \n",
      "                                                                 leaky_re_lu_5[12][0]             \n",
      "                                                                 leaky_re_lu_5[13][0]             \n",
      "                                                                 leaky_re_lu_5[14][0]             \n",
      "                                                                 leaky_re_lu_5[15][0]             \n",
      "                                                                 leaky_re_lu_5[16][0]             \n",
      "                                                                 leaky_re_lu_5[17][0]             \n",
      "                                                                 leaky_re_lu_5[18][0]             \n",
      "                                                                 leaky_re_lu_5[19][0]             \n",
      "                                                                 leaky_re_lu_5[20][0]             \n",
      "                                                                 leaky_re_lu_5[21][0]             \n",
      "                                                                 leaky_re_lu_5[22][0]             \n",
      "                                                                 leaky_re_lu_5[23][0]             \n",
      "                                                                 leaky_re_lu_5[24][0]             \n",
      "                                                                 leaky_re_lu_5[25][0]             \n",
      "                                                                 leaky_re_lu_5[26][0]             \n",
      "                                                                 leaky_re_lu_5[27][0]             \n",
      "                                                                 leaky_re_lu_5[28][0]             \n",
      "                                                                 leaky_re_lu_5[29][0]             \n",
      "                                                                 leaky_re_lu_5[30][0]             \n",
      "                                                                 leaky_re_lu_5[31][0]             \n",
      "                                                                 leaky_re_lu_5[32][0]             \n",
      "                                                                 leaky_re_lu_5[33][0]             \n",
      "                                                                 leaky_re_lu_5[34][0]             \n",
      "                                                                 leaky_re_lu_5[35][0]             \n",
      "                                                                 leaky_re_lu_5[36][0]             \n",
      "                                                                 leaky_re_lu_5[37][0]             \n",
      "                                                                 leaky_re_lu_5[38][0]             \n",
      "                                                                 leaky_re_lu_5[39][0]             \n",
      "                                                                 leaky_re_lu_5[40][0]             \n",
      "                                                                 leaky_re_lu_5[41][0]             \n",
      "                                                                 leaky_re_lu_5[42][0]             \n",
      "                                                                 leaky_re_lu_5[43][0]             \n",
      "                                                                 leaky_re_lu_5[44][0]             \n",
      "                                                                 leaky_re_lu_5[45][0]             \n",
      "                                                                 leaky_re_lu_5[46][0]             \n",
      "                                                                 leaky_re_lu_5[47][0]             \n",
      "                                                                 leaky_re_lu_5[48][0]             \n",
      "                                                                 leaky_re_lu_5[49][0]             \n",
      "                                                                 leaky_re_lu_5[50][0]             \n",
      "                                                                 leaky_re_lu_5[51][0]             \n",
      "                                                                 leaky_re_lu_5[52][0]             \n",
      "                                                                 leaky_re_lu_5[53][0]             \n",
      "                                                                 leaky_re_lu_5[54][0]             \n",
      "                                                                 leaky_re_lu_5[55][0]             \n",
      "                                                                 leaky_re_lu_5[56][0]             \n",
      "                                                                 leaky_re_lu_5[57][0]             \n",
      "                                                                 leaky_re_lu_5[58][0]             \n",
      "                                                                 leaky_re_lu_5[59][0]             \n",
      "                                                                 leaky_re_lu_5[60][0]             \n",
      "                                                                 leaky_re_lu_5[61][0]             \n",
      "                                                                 leaky_re_lu_5[62][0]             \n",
      "                                                                 leaky_re_lu_5[63][0]             \n",
      "                                                                 leaky_re_lu_5[64][0]             \n",
      "                                                                 leaky_re_lu_5[65][0]             \n",
      "                                                                 leaky_re_lu_5[66][0]             \n",
      "                                                                 leaky_re_lu_5[67][0]             \n",
      "                                                                 leaky_re_lu_5[68][0]             \n",
      "                                                                 leaky_re_lu_5[69][0]             \n",
      "                                                                 leaky_re_lu_5[70][0]             \n",
      "                                                                 leaky_re_lu_5[71][0]             \n",
      "                                                                 leaky_re_lu_5[72][0]             \n",
      "                                                                 leaky_re_lu_5[73][0]             \n",
      "                                                                 leaky_re_lu_5[74][0]             \n",
      "                                                                 leaky_re_lu_5[75][0]             \n",
      "                                                                 leaky_re_lu_5[76][0]             \n",
      "                                                                 leaky_re_lu_5[77][0]             \n",
      "                                                                 leaky_re_lu_5[78][0]             \n",
      "                                                                 leaky_re_lu_5[79][0]             \n",
      "                                                                 leaky_re_lu_5[80][0]             \n",
      "__________________________________________________________________________________________________\n",
      "leaky_re_lu_6 (LeakyReLU)       (None, 512)          0           dense_2[0][0]                    \n",
      "                                                                 dense_2[1][0]                    \n",
      "                                                                 dense_2[2][0]                    \n",
      "                                                                 dense_2[3][0]                    \n",
      "                                                                 dense_2[4][0]                    \n",
      "                                                                 dense_2[5][0]                    \n",
      "                                                                 dense_2[6][0]                    \n",
      "                                                                 dense_2[7][0]                    \n",
      "                                                                 dense_2[8][0]                    \n",
      "                                                                 dense_2[9][0]                    \n",
      "                                                                 dense_2[10][0]                   \n",
      "                                                                 dense_2[11][0]                   \n",
      "                                                                 dense_2[12][0]                   \n",
      "                                                                 dense_2[13][0]                   \n",
      "                                                                 dense_2[14][0]                   \n",
      "                                                                 dense_2[15][0]                   \n",
      "                                                                 dense_2[16][0]                   \n",
      "                                                                 dense_2[17][0]                   \n",
      "                                                                 dense_2[18][0]                   \n",
      "                                                                 dense_2[19][0]                   \n",
      "                                                                 dense_2[20][0]                   \n",
      "                                                                 dense_2[21][0]                   \n",
      "                                                                 dense_2[22][0]                   \n",
      "                                                                 dense_2[23][0]                   \n",
      "                                                                 dense_2[24][0]                   \n",
      "                                                                 dense_2[25][0]                   \n",
      "                                                                 dense_2[26][0]                   \n",
      "                                                                 dense_2[27][0]                   \n",
      "                                                                 dense_2[28][0]                   \n",
      "                                                                 dense_2[29][0]                   \n",
      "                                                                 dense_2[30][0]                   \n",
      "                                                                 dense_2[31][0]                   \n",
      "                                                                 dense_2[32][0]                   \n",
      "                                                                 dense_2[33][0]                   \n",
      "                                                                 dense_2[34][0]                   \n",
      "                                                                 dense_2[35][0]                   \n",
      "                                                                 dense_2[36][0]                   \n",
      "                                                                 dense_2[37][0]                   \n",
      "                                                                 dense_2[38][0]                   \n",
      "                                                                 dense_2[39][0]                   \n",
      "                                                                 dense_2[40][0]                   \n",
      "                                                                 dense_2[41][0]                   \n",
      "                                                                 dense_2[42][0]                   \n",
      "                                                                 dense_2[43][0]                   \n",
      "                                                                 dense_2[44][0]                   \n",
      "                                                                 dense_2[45][0]                   \n",
      "                                                                 dense_2[46][0]                   \n",
      "                                                                 dense_2[47][0]                   \n",
      "                                                                 dense_2[48][0]                   \n",
      "                                                                 dense_2[49][0]                   \n",
      "                                                                 dense_2[50][0]                   \n",
      "                                                                 dense_2[51][0]                   \n",
      "                                                                 dense_2[52][0]                   \n",
      "                                                                 dense_2[53][0]                   \n",
      "                                                                 dense_2[54][0]                   \n",
      "                                                                 dense_2[55][0]                   \n",
      "                                                                 dense_2[56][0]                   \n",
      "                                                                 dense_2[57][0]                   \n",
      "                                                                 dense_2[58][0]                   \n",
      "                                                                 dense_2[59][0]                   \n",
      "                                                                 dense_2[60][0]                   \n",
      "                                                                 dense_2[61][0]                   \n",
      "                                                                 dense_2[62][0]                   \n",
      "                                                                 dense_2[63][0]                   \n",
      "                                                                 dense_2[64][0]                   \n",
      "                                                                 dense_2[65][0]                   \n",
      "                                                                 dense_2[66][0]                   \n",
      "                                                                 dense_2[67][0]                   \n",
      "                                                                 dense_2[68][0]                   \n",
      "                                                                 dense_2[69][0]                   \n",
      "                                                                 dense_2[70][0]                   \n",
      "                                                                 dense_2[71][0]                   \n",
      "                                                                 dense_2[72][0]                   \n",
      "                                                                 dense_2[73][0]                   \n",
      "                                                                 dense_2[74][0]                   \n",
      "                                                                 dense_2[75][0]                   \n",
      "                                                                 dense_2[76][0]                   \n",
      "                                                                 dense_2[77][0]                   \n",
      "                                                                 dense_2[78][0]                   \n",
      "                                                                 dense_2[79][0]                   \n",
      "                                                                 dense_2[80][0]                   \n",
      "__________________________________________________________________________________________________\n",
      "dense_3 (Dense)                 (None, 512)          262656      leaky_re_lu_6[0][0]              \n",
      "                                                                 leaky_re_lu_6[1][0]              \n",
      "                                                                 leaky_re_lu_6[2][0]              \n",
      "                                                                 leaky_re_lu_6[3][0]              \n",
      "                                                                 leaky_re_lu_6[4][0]              \n",
      "                                                                 leaky_re_lu_6[5][0]              \n",
      "                                                                 leaky_re_lu_6[6][0]              \n",
      "                                                                 leaky_re_lu_6[7][0]              \n",
      "                                                                 leaky_re_lu_6[8][0]              \n",
      "                                                                 leaky_re_lu_6[9][0]              \n",
      "                                                                 leaky_re_lu_6[10][0]             \n",
      "                                                                 leaky_re_lu_6[11][0]             \n",
      "                                                                 leaky_re_lu_6[12][0]             \n",
      "                                                                 leaky_re_lu_6[13][0]             \n",
      "                                                                 leaky_re_lu_6[14][0]             \n",
      "                                                                 leaky_re_lu_6[15][0]             \n",
      "                                                                 leaky_re_lu_6[16][0]             \n",
      "                                                                 leaky_re_lu_6[17][0]             \n",
      "                                                                 leaky_re_lu_6[18][0]             \n",
      "                                                                 leaky_re_lu_6[19][0]             \n",
      "                                                                 leaky_re_lu_6[20][0]             \n",
      "                                                                 leaky_re_lu_6[21][0]             \n",
      "                                                                 leaky_re_lu_6[22][0]             \n",
      "                                                                 leaky_re_lu_6[23][0]             \n",
      "                                                                 leaky_re_lu_6[24][0]             \n",
      "                                                                 leaky_re_lu_6[25][0]             \n",
      "                                                                 leaky_re_lu_6[26][0]             \n",
      "                                                                 leaky_re_lu_6[27][0]             \n",
      "                                                                 leaky_re_lu_6[28][0]             \n",
      "                                                                 leaky_re_lu_6[29][0]             \n",
      "                                                                 leaky_re_lu_6[30][0]             \n",
      "                                                                 leaky_re_lu_6[31][0]             \n",
      "                                                                 leaky_re_lu_6[32][0]             \n",
      "                                                                 leaky_re_lu_6[33][0]             \n",
      "                                                                 leaky_re_lu_6[34][0]             \n",
      "                                                                 leaky_re_lu_6[35][0]             \n",
      "                                                                 leaky_re_lu_6[36][0]             \n",
      "                                                                 leaky_re_lu_6[37][0]             \n",
      "                                                                 leaky_re_lu_6[38][0]             \n",
      "                                                                 leaky_re_lu_6[39][0]             \n",
      "                                                                 leaky_re_lu_6[40][0]             \n",
      "                                                                 leaky_re_lu_6[41][0]             \n",
      "                                                                 leaky_re_lu_6[42][0]             \n",
      "                                                                 leaky_re_lu_6[43][0]             \n",
      "                                                                 leaky_re_lu_6[44][0]             \n",
      "                                                                 leaky_re_lu_6[45][0]             \n",
      "                                                                 leaky_re_lu_6[46][0]             \n",
      "                                                                 leaky_re_lu_6[47][0]             \n",
      "                                                                 leaky_re_lu_6[48][0]             \n",
      "                                                                 leaky_re_lu_6[49][0]             \n",
      "                                                                 leaky_re_lu_6[50][0]             \n",
      "                                                                 leaky_re_lu_6[51][0]             \n",
      "                                                                 leaky_re_lu_6[52][0]             \n",
      "                                                                 leaky_re_lu_6[53][0]             \n",
      "                                                                 leaky_re_lu_6[54][0]             \n",
      "                                                                 leaky_re_lu_6[55][0]             \n",
      "                                                                 leaky_re_lu_6[56][0]             \n",
      "                                                                 leaky_re_lu_6[57][0]             \n",
      "                                                                 leaky_re_lu_6[58][0]             \n",
      "                                                                 leaky_re_lu_6[59][0]             \n",
      "                                                                 leaky_re_lu_6[60][0]             \n",
      "                                                                 leaky_re_lu_6[61][0]             \n",
      "                                                                 leaky_re_lu_6[62][0]             \n",
      "                                                                 leaky_re_lu_6[63][0]             \n",
      "                                                                 leaky_re_lu_6[64][0]             \n",
      "                                                                 leaky_re_lu_6[65][0]             \n",
      "                                                                 leaky_re_lu_6[66][0]             \n",
      "                                                                 leaky_re_lu_6[67][0]             \n",
      "                                                                 leaky_re_lu_6[68][0]             \n",
      "                                                                 leaky_re_lu_6[69][0]             \n",
      "                                                                 leaky_re_lu_6[70][0]             \n",
      "                                                                 leaky_re_lu_6[71][0]             \n",
      "                                                                 leaky_re_lu_6[72][0]             \n",
      "                                                                 leaky_re_lu_6[73][0]             \n",
      "                                                                 leaky_re_lu_6[74][0]             \n",
      "                                                                 leaky_re_lu_6[75][0]             \n",
      "                                                                 leaky_re_lu_6[76][0]             \n",
      "                                                                 leaky_re_lu_6[77][0]             \n",
      "                                                                 leaky_re_lu_6[78][0]             \n",
      "                                                                 leaky_re_lu_6[79][0]             \n",
      "                                                                 leaky_re_lu_6[80][0]             \n",
      "__________________________________________________________________________________________________\n",
      "leaky_re_lu_7 (LeakyReLU)       (None, 512)          0           dense_3[0][0]                    \n",
      "                                                                 dense_3[1][0]                    \n",
      "                                                                 dense_3[2][0]                    \n",
      "                                                                 dense_3[3][0]                    \n",
      "                                                                 dense_3[4][0]                    \n",
      "                                                                 dense_3[5][0]                    \n",
      "                                                                 dense_3[6][0]                    \n",
      "                                                                 dense_3[7][0]                    \n",
      "                                                                 dense_3[8][0]                    \n",
      "                                                                 dense_3[9][0]                    \n",
      "                                                                 dense_3[10][0]                   \n",
      "                                                                 dense_3[11][0]                   \n",
      "                                                                 dense_3[12][0]                   \n",
      "                                                                 dense_3[13][0]                   \n",
      "                                                                 dense_3[14][0]                   \n",
      "                                                                 dense_3[15][0]                   \n",
      "                                                                 dense_3[16][0]                   \n",
      "                                                                 dense_3[17][0]                   \n",
      "                                                                 dense_3[18][0]                   \n",
      "                                                                 dense_3[19][0]                   \n",
      "                                                                 dense_3[20][0]                   \n",
      "                                                                 dense_3[21][0]                   \n",
      "                                                                 dense_3[22][0]                   \n",
      "                                                                 dense_3[23][0]                   \n",
      "                                                                 dense_3[24][0]                   \n",
      "                                                                 dense_3[25][0]                   \n",
      "                                                                 dense_3[26][0]                   \n",
      "                                                                 dense_3[27][0]                   \n",
      "                                                                 dense_3[28][0]                   \n",
      "                                                                 dense_3[29][0]                   \n",
      "                                                                 dense_3[30][0]                   \n",
      "                                                                 dense_3[31][0]                   \n",
      "                                                                 dense_3[32][0]                   \n",
      "                                                                 dense_3[33][0]                   \n",
      "                                                                 dense_3[34][0]                   \n",
      "                                                                 dense_3[35][0]                   \n",
      "                                                                 dense_3[36][0]                   \n",
      "                                                                 dense_3[37][0]                   \n",
      "                                                                 dense_3[38][0]                   \n",
      "                                                                 dense_3[39][0]                   \n",
      "                                                                 dense_3[40][0]                   \n",
      "                                                                 dense_3[41][0]                   \n",
      "                                                                 dense_3[42][0]                   \n",
      "                                                                 dense_3[43][0]                   \n",
      "                                                                 dense_3[44][0]                   \n",
      "                                                                 dense_3[45][0]                   \n",
      "                                                                 dense_3[46][0]                   \n",
      "                                                                 dense_3[47][0]                   \n",
      "                                                                 dense_3[48][0]                   \n",
      "                                                                 dense_3[49][0]                   \n",
      "                                                                 dense_3[50][0]                   \n",
      "                                                                 dense_3[51][0]                   \n",
      "                                                                 dense_3[52][0]                   \n",
      "                                                                 dense_3[53][0]                   \n",
      "                                                                 dense_3[54][0]                   \n",
      "                                                                 dense_3[55][0]                   \n",
      "                                                                 dense_3[56][0]                   \n",
      "                                                                 dense_3[57][0]                   \n",
      "                                                                 dense_3[58][0]                   \n",
      "                                                                 dense_3[59][0]                   \n",
      "                                                                 dense_3[60][0]                   \n",
      "                                                                 dense_3[61][0]                   \n",
      "                                                                 dense_3[62][0]                   \n",
      "                                                                 dense_3[63][0]                   \n",
      "                                                                 dense_3[64][0]                   \n",
      "                                                                 dense_3[65][0]                   \n",
      "                                                                 dense_3[66][0]                   \n",
      "                                                                 dense_3[67][0]                   \n",
      "                                                                 dense_3[68][0]                   \n",
      "                                                                 dense_3[69][0]                   \n",
      "                                                                 dense_3[70][0]                   \n",
      "                                                                 dense_3[71][0]                   \n",
      "                                                                 dense_3[72][0]                   \n",
      "                                                                 dense_3[73][0]                   \n",
      "                                                                 dense_3[74][0]                   \n",
      "                                                                 dense_3[75][0]                   \n",
      "                                                                 dense_3[76][0]                   \n",
      "                                                                 dense_3[77][0]                   \n",
      "                                                                 dense_3[78][0]                   \n",
      "                                                                 dense_3[79][0]                   \n",
      "                                                                 dense_3[80][0]                   \n",
      "__________________________________________________________________________________________________\n",
      "dense_4 (Dense)                 (None, 512)          262656      leaky_re_lu_7[0][0]              \n",
      "                                                                 leaky_re_lu_7[1][0]              \n",
      "                                                                 leaky_re_lu_7[2][0]              \n",
      "                                                                 leaky_re_lu_7[3][0]              \n",
      "                                                                 leaky_re_lu_7[4][0]              \n",
      "                                                                 leaky_re_lu_7[5][0]              \n",
      "                                                                 leaky_re_lu_7[6][0]              \n",
      "                                                                 leaky_re_lu_7[7][0]              \n",
      "                                                                 leaky_re_lu_7[8][0]              \n",
      "                                                                 leaky_re_lu_7[9][0]              \n",
      "                                                                 leaky_re_lu_7[10][0]             \n",
      "                                                                 leaky_re_lu_7[11][0]             \n",
      "                                                                 leaky_re_lu_7[12][0]             \n",
      "                                                                 leaky_re_lu_7[13][0]             \n",
      "                                                                 leaky_re_lu_7[14][0]             \n",
      "                                                                 leaky_re_lu_7[15][0]             \n",
      "                                                                 leaky_re_lu_7[16][0]             \n",
      "                                                                 leaky_re_lu_7[17][0]             \n",
      "                                                                 leaky_re_lu_7[18][0]             \n",
      "                                                                 leaky_re_lu_7[19][0]             \n",
      "                                                                 leaky_re_lu_7[20][0]             \n",
      "                                                                 leaky_re_lu_7[21][0]             \n",
      "                                                                 leaky_re_lu_7[22][0]             \n",
      "                                                                 leaky_re_lu_7[23][0]             \n",
      "                                                                 leaky_re_lu_7[24][0]             \n",
      "                                                                 leaky_re_lu_7[25][0]             \n",
      "                                                                 leaky_re_lu_7[26][0]             \n",
      "                                                                 leaky_re_lu_7[27][0]             \n",
      "                                                                 leaky_re_lu_7[28][0]             \n",
      "                                                                 leaky_re_lu_7[29][0]             \n",
      "                                                                 leaky_re_lu_7[30][0]             \n",
      "                                                                 leaky_re_lu_7[31][0]             \n",
      "                                                                 leaky_re_lu_7[32][0]             \n",
      "                                                                 leaky_re_lu_7[33][0]             \n",
      "                                                                 leaky_re_lu_7[34][0]             \n",
      "                                                                 leaky_re_lu_7[35][0]             \n",
      "                                                                 leaky_re_lu_7[36][0]             \n",
      "                                                                 leaky_re_lu_7[37][0]             \n",
      "                                                                 leaky_re_lu_7[38][0]             \n",
      "                                                                 leaky_re_lu_7[39][0]             \n",
      "                                                                 leaky_re_lu_7[40][0]             \n",
      "                                                                 leaky_re_lu_7[41][0]             \n",
      "                                                                 leaky_re_lu_7[42][0]             \n",
      "                                                                 leaky_re_lu_7[43][0]             \n",
      "                                                                 leaky_re_lu_7[44][0]             \n",
      "                                                                 leaky_re_lu_7[45][0]             \n",
      "                                                                 leaky_re_lu_7[46][0]             \n",
      "                                                                 leaky_re_lu_7[47][0]             \n",
      "                                                                 leaky_re_lu_7[48][0]             \n",
      "                                                                 leaky_re_lu_7[49][0]             \n",
      "                                                                 leaky_re_lu_7[50][0]             \n",
      "                                                                 leaky_re_lu_7[51][0]             \n",
      "                                                                 leaky_re_lu_7[52][0]             \n",
      "                                                                 leaky_re_lu_7[53][0]             \n",
      "                                                                 leaky_re_lu_7[54][0]             \n",
      "                                                                 leaky_re_lu_7[55][0]             \n",
      "                                                                 leaky_re_lu_7[56][0]             \n",
      "                                                                 leaky_re_lu_7[57][0]             \n",
      "                                                                 leaky_re_lu_7[58][0]             \n",
      "                                                                 leaky_re_lu_7[59][0]             \n",
      "                                                                 leaky_re_lu_7[60][0]             \n",
      "                                                                 leaky_re_lu_7[61][0]             \n",
      "                                                                 leaky_re_lu_7[62][0]             \n",
      "                                                                 leaky_re_lu_7[63][0]             \n",
      "                                                                 leaky_re_lu_7[64][0]             \n",
      "                                                                 leaky_re_lu_7[65][0]             \n",
      "                                                                 leaky_re_lu_7[66][0]             \n",
      "                                                                 leaky_re_lu_7[67][0]             \n",
      "                                                                 leaky_re_lu_7[68][0]             \n",
      "                                                                 leaky_re_lu_7[69][0]             \n",
      "                                                                 leaky_re_lu_7[70][0]             \n",
      "                                                                 leaky_re_lu_7[71][0]             \n",
      "                                                                 leaky_re_lu_7[72][0]             \n",
      "                                                                 leaky_re_lu_7[73][0]             \n",
      "                                                                 leaky_re_lu_7[74][0]             \n",
      "                                                                 leaky_re_lu_7[75][0]             \n",
      "                                                                 leaky_re_lu_7[76][0]             \n",
      "                                                                 leaky_re_lu_7[77][0]             \n",
      "                                                                 leaky_re_lu_7[78][0]             \n",
      "                                                                 leaky_re_lu_7[79][0]             \n",
      "                                                                 leaky_re_lu_7[80][0]             \n",
      "__________________________________________________________________________________________________\n",
      "leaky_re_lu_8 (LeakyReLU)       (None, 512)          0           dense_4[0][0]                    \n",
      "                                                                 dense_4[1][0]                    \n",
      "                                                                 dense_4[2][0]                    \n",
      "                                                                 dense_4[3][0]                    \n",
      "                                                                 dense_4[4][0]                    \n",
      "                                                                 dense_4[5][0]                    \n",
      "                                                                 dense_4[6][0]                    \n",
      "                                                                 dense_4[7][0]                    \n",
      "                                                                 dense_4[8][0]                    \n",
      "                                                                 dense_4[9][0]                    \n",
      "                                                                 dense_4[10][0]                   \n",
      "                                                                 dense_4[11][0]                   \n",
      "                                                                 dense_4[12][0]                   \n",
      "                                                                 dense_4[13][0]                   \n",
      "                                                                 dense_4[14][0]                   \n",
      "                                                                 dense_4[15][0]                   \n",
      "                                                                 dense_4[16][0]                   \n",
      "                                                                 dense_4[17][0]                   \n",
      "                                                                 dense_4[18][0]                   \n",
      "                                                                 dense_4[19][0]                   \n",
      "                                                                 dense_4[20][0]                   \n",
      "                                                                 dense_4[21][0]                   \n",
      "                                                                 dense_4[22][0]                   \n",
      "                                                                 dense_4[23][0]                   \n",
      "                                                                 dense_4[24][0]                   \n",
      "                                                                 dense_4[25][0]                   \n",
      "                                                                 dense_4[26][0]                   \n",
      "                                                                 dense_4[27][0]                   \n",
      "                                                                 dense_4[28][0]                   \n",
      "                                                                 dense_4[29][0]                   \n",
      "                                                                 dense_4[30][0]                   \n",
      "                                                                 dense_4[31][0]                   \n",
      "                                                                 dense_4[32][0]                   \n",
      "                                                                 dense_4[33][0]                   \n",
      "                                                                 dense_4[34][0]                   \n",
      "                                                                 dense_4[35][0]                   \n",
      "                                                                 dense_4[36][0]                   \n",
      "                                                                 dense_4[37][0]                   \n",
      "                                                                 dense_4[38][0]                   \n",
      "                                                                 dense_4[39][0]                   \n",
      "                                                                 dense_4[40][0]                   \n",
      "                                                                 dense_4[41][0]                   \n",
      "                                                                 dense_4[42][0]                   \n",
      "                                                                 dense_4[43][0]                   \n",
      "                                                                 dense_4[44][0]                   \n",
      "                                                                 dense_4[45][0]                   \n",
      "                                                                 dense_4[46][0]                   \n",
      "                                                                 dense_4[47][0]                   \n",
      "                                                                 dense_4[48][0]                   \n",
      "                                                                 dense_4[49][0]                   \n",
      "                                                                 dense_4[50][0]                   \n",
      "                                                                 dense_4[51][0]                   \n",
      "                                                                 dense_4[52][0]                   \n",
      "                                                                 dense_4[53][0]                   \n",
      "                                                                 dense_4[54][0]                   \n",
      "                                                                 dense_4[55][0]                   \n",
      "                                                                 dense_4[56][0]                   \n",
      "                                                                 dense_4[57][0]                   \n",
      "                                                                 dense_4[58][0]                   \n",
      "                                                                 dense_4[59][0]                   \n",
      "                                                                 dense_4[60][0]                   \n",
      "                                                                 dense_4[61][0]                   \n",
      "                                                                 dense_4[62][0]                   \n",
      "                                                                 dense_4[63][0]                   \n",
      "                                                                 dense_4[64][0]                   \n",
      "                                                                 dense_4[65][0]                   \n",
      "                                                                 dense_4[66][0]                   \n",
      "                                                                 dense_4[67][0]                   \n",
      "                                                                 dense_4[68][0]                   \n",
      "                                                                 dense_4[69][0]                   \n",
      "                                                                 dense_4[70][0]                   \n",
      "                                                                 dense_4[71][0]                   \n",
      "                                                                 dense_4[72][0]                   \n",
      "                                                                 dense_4[73][0]                   \n",
      "                                                                 dense_4[74][0]                   \n",
      "                                                                 dense_4[75][0]                   \n",
      "                                                                 dense_4[76][0]                   \n",
      "                                                                 dense_4[77][0]                   \n",
      "                                                                 dense_4[78][0]                   \n",
      "                                                                 dense_4[79][0]                   \n",
      "                                                                 dense_4[80][0]                   \n",
      "__________________________________________________________________________________________________\n",
      "average_1 (Average)             (None, 512)          0           leaky_re_lu_8[0][0]              \n",
      "                                                                 leaky_re_lu_8[1][0]              \n",
      "                                                                 leaky_re_lu_8[2][0]              \n",
      "                                                                 leaky_re_lu_8[3][0]              \n",
      "                                                                 leaky_re_lu_8[4][0]              \n",
      "                                                                 leaky_re_lu_8[5][0]              \n",
      "                                                                 leaky_re_lu_8[6][0]              \n",
      "                                                                 leaky_re_lu_8[7][0]              \n",
      "                                                                 leaky_re_lu_8[8][0]              \n",
      "                                                                 leaky_re_lu_8[9][0]              \n",
      "                                                                 leaky_re_lu_8[10][0]             \n",
      "                                                                 leaky_re_lu_8[11][0]             \n",
      "                                                                 leaky_re_lu_8[12][0]             \n",
      "                                                                 leaky_re_lu_8[13][0]             \n",
      "                                                                 leaky_re_lu_8[14][0]             \n",
      "                                                                 leaky_re_lu_8[15][0]             \n",
      "                                                                 leaky_re_lu_8[16][0]             \n",
      "                                                                 leaky_re_lu_8[17][0]             \n",
      "                                                                 leaky_re_lu_8[18][0]             \n",
      "                                                                 leaky_re_lu_8[19][0]             \n",
      "                                                                 leaky_re_lu_8[20][0]             \n",
      "                                                                 leaky_re_lu_8[21][0]             \n",
      "                                                                 leaky_re_lu_8[22][0]             \n",
      "                                                                 leaky_re_lu_8[23][0]             \n",
      "                                                                 leaky_re_lu_8[24][0]             \n",
      "                                                                 leaky_re_lu_8[25][0]             \n",
      "                                                                 leaky_re_lu_8[26][0]             \n",
      "                                                                 leaky_re_lu_8[27][0]             \n",
      "                                                                 leaky_re_lu_8[28][0]             \n",
      "                                                                 leaky_re_lu_8[29][0]             \n",
      "                                                                 leaky_re_lu_8[30][0]             \n",
      "                                                                 leaky_re_lu_8[31][0]             \n",
      "                                                                 leaky_re_lu_8[32][0]             \n",
      "                                                                 leaky_re_lu_8[33][0]             \n",
      "                                                                 leaky_re_lu_8[34][0]             \n",
      "                                                                 leaky_re_lu_8[35][0]             \n",
      "                                                                 leaky_re_lu_8[36][0]             \n",
      "                                                                 leaky_re_lu_8[37][0]             \n",
      "                                                                 leaky_re_lu_8[38][0]             \n",
      "                                                                 leaky_re_lu_8[39][0]             \n",
      "                                                                 leaky_re_lu_8[40][0]             \n",
      "                                                                 leaky_re_lu_8[41][0]             \n",
      "                                                                 leaky_re_lu_8[42][0]             \n",
      "                                                                 leaky_re_lu_8[43][0]             \n",
      "                                                                 leaky_re_lu_8[44][0]             \n",
      "                                                                 leaky_re_lu_8[45][0]             \n",
      "                                                                 leaky_re_lu_8[46][0]             \n",
      "                                                                 leaky_re_lu_8[47][0]             \n",
      "                                                                 leaky_re_lu_8[48][0]             \n",
      "                                                                 leaky_re_lu_8[49][0]             \n",
      "                                                                 leaky_re_lu_8[50][0]             \n",
      "                                                                 leaky_re_lu_8[51][0]             \n",
      "                                                                 leaky_re_lu_8[52][0]             \n",
      "                                                                 leaky_re_lu_8[53][0]             \n",
      "                                                                 leaky_re_lu_8[54][0]             \n",
      "                                                                 leaky_re_lu_8[55][0]             \n",
      "                                                                 leaky_re_lu_8[56][0]             \n",
      "                                                                 leaky_re_lu_8[57][0]             \n",
      "                                                                 leaky_re_lu_8[58][0]             \n",
      "                                                                 leaky_re_lu_8[59][0]             \n",
      "                                                                 leaky_re_lu_8[60][0]             \n",
      "                                                                 leaky_re_lu_8[61][0]             \n",
      "                                                                 leaky_re_lu_8[62][0]             \n",
      "                                                                 leaky_re_lu_8[63][0]             \n",
      "                                                                 leaky_re_lu_8[64][0]             \n",
      "                                                                 leaky_re_lu_8[65][0]             \n",
      "                                                                 leaky_re_lu_8[66][0]             \n",
      "                                                                 leaky_re_lu_8[67][0]             \n",
      "                                                                 leaky_re_lu_8[68][0]             \n",
      "                                                                 leaky_re_lu_8[69][0]             \n",
      "                                                                 leaky_re_lu_8[70][0]             \n",
      "                                                                 leaky_re_lu_8[71][0]             \n",
      "                                                                 leaky_re_lu_8[72][0]             \n",
      "                                                                 leaky_re_lu_8[73][0]             \n",
      "                                                                 leaky_re_lu_8[74][0]             \n",
      "                                                                 leaky_re_lu_8[75][0]             \n",
      "                                                                 leaky_re_lu_8[76][0]             \n",
      "                                                                 leaky_re_lu_8[77][0]             \n",
      "                                                                 leaky_re_lu_8[78][0]             \n",
      "                                                                 leaky_re_lu_8[79][0]             \n",
      "                                                                 leaky_re_lu_8[80][0]             \n",
      "__________________________________________________________________________________________________\n",
      "dense_5 (Dense)                 (None, 512)          262656      average_1[0][0]                  \n",
      "__________________________________________________________________________________________________\n",
      "leaky_re_lu_9 (LeakyReLU)       (None, 512)          0           dense_5[0][0]                    \n",
      "__________________________________________________________________________________________________\n",
      "dropout_1 (Dropout)             (None, 512)          0           leaky_re_lu_9[0][0]              \n",
      "__________________________________________________________________________________________________\n",
      "dense_6 (Dense)                 (None, 512)          262656      dropout_1[0][0]                  \n",
      "__________________________________________________________________________________________________\n",
      "leaky_re_lu_10 (LeakyReLU)      (None, 512)          0           dense_6[0][0]                    \n",
      "__________________________________________________________________________________________________\n",
      "dropout_2 (Dropout)             (None, 512)          0           leaky_re_lu_10[0][0]             \n",
      "__________________________________________________________________________________________________\n",
      "dense_7 (Dense)                 (None, 512)          262656      dropout_2[0][0]                  \n",
      "__________________________________________________________________________________________________\n",
      "leaky_re_lu_11 (LeakyReLU)      (None, 512)          0           dense_7[0][0]                    \n",
      "__________________________________________________________________________________________________\n",
      "dense_8 (Dense)                 (None, 2)            1026        leaky_re_lu_11[0][0]             \n",
      "==================================================================================================\n",
      "Total params: 1,638,818\n",
      "Trainable params: 1,638,562\n",
      "Non-trainable params: 256\n",
      "__________________________________________________________________________________________________\n"
     ]
    }
   ],
   "source": [
    "density = '04'\n",
    "\n",
    "open_arch_name = 'RN_model_classify_arch_density_' + density + '.json'\n",
    "\n",
    "with open(open_arch_name, 'r') as f:\n",
    "    RN_model = model_from_json(f.read())\n",
    "    \n",
    "\n",
    "open_weights_name = 'try_new_best_RN_model_classify_weights_density_' + density + '.h5'\n",
    "\n",
    "RN_model.load_weights(open_weights_name)\n",
    "\n",
    "RN_model.summary()"
   ]
  },
  {
   "cell_type": "code",
   "execution_count": 13,
   "metadata": {},
   "outputs": [
    {
     "name": "stdout",
     "output_type": "stream",
     "text": [
      "x_train_shape: (116, 116, 17034)\n",
      "x_test_shape: (116, 116, 8016)\n",
      "y_train_shape: (17034, 1)\n",
      "y_test_shape: (8016, 1)\n",
      "x_train_shape: (17034, 116, 116, 1)\n",
      "x_test_shape: (8016, 116, 116, 1)\n",
      "y_train_shape: (17034,)\n",
      "y_test_shape: (8016,)\n",
      "y_train_shape: (17034, 2)\n",
      "y_test_shape: (8016,)\n"
     ]
    },
    {
     "data": {
      "image/png": "[encoded data removed]",
      "text/plain": [
       "<Figure size 432x288 with 1 Axes>"
      ]
     },
     "metadata": {
      "needs_background": "light"
     },
     "output_type": "display_data"
    }
   ],
   "source": [
    "# Load Data\n",
    "\n",
    "# data dir\n",
    "dir_name = '../../new_classification_data/'\n",
    "\n",
    "density = '04'\n",
    "\n",
    "# load train data\n",
    "fname = 'x_train_density_' + density + '.mat'\n",
    "filename = os.path.join(os.getcwd(),dir_name,fname)\n",
    "x_train_mat = sio.loadmat(filename)['x_train_mat']\n",
    "x_train_mat = np.float32(x_train_mat)\n",
    "\n",
    "fname = 'y_train_density_' + density + '.mat'\n",
    "filename = os.path.join(os.getcwd(),dir_name,fname)\n",
    "y_train_mat = sio.loadmat(filename)['y_train_mat']\n",
    "y_train_mat = np.float32(y_train_mat)\n",
    "\n",
    "# load test data\n",
    "fname = 'x_test_density_' + density + '.mat'\n",
    "filename = os.path.join(os.getcwd(),dir_name,fname)\n",
    "x_test_mat = sio.loadmat(filename)['x_test_mat']\n",
    "x_test_mat = np.float32(x_test_mat)\n",
    "\n",
    "fname = 'y_test_density_' + density + '.mat'\n",
    "filename = os.path.join(os.getcwd(),dir_name,fname)\n",
    "y_test_mat = sio.loadmat(filename)['y_test_mat']\n",
    "y_test_mat = np.float32(y_test_mat)\n",
    "\n",
    "print('x_train_shape:',x_train_mat.shape)\n",
    "print('x_test_shape:',x_test_mat.shape)\n",
    "\n",
    "\n",
    "print('y_train_shape:',y_train_mat.shape)\n",
    "print('y_test_shape:',y_test_mat.shape)\n",
    "\n",
    "\n",
    "x_train = np.zeros((x_train_mat.shape[2],116,116,1),dtype=np.float32)\n",
    "y_train = np.zeros((x_train_mat.shape[2],),dtype=np.float32)\n",
    "\n",
    "x_test = np.zeros((x_test_mat.shape[2],116,116,1),dtype=np.float32)\n",
    "y_test = np.zeros((x_test_mat.shape[2],),dtype=np.float32)\n",
    "\n",
    "\n",
    "for i in range(x_train_mat.shape[2]):\n",
    "    temp = x_train_mat[:,:,i]\n",
    "    temp = np.triu(temp,1)\n",
    "    x_train[i,:,:,0] = temp\n",
    "    y_train[i] = y_train_mat[i,0] # training class labels\n",
    "        \n",
    "for i in range(x_test_mat.shape[2]):\n",
    "    temp = x_test_mat[:,:,i]\n",
    "    temp = np.triu(temp,1)\n",
    "    x_test[i,:,:,0] = temp\n",
    "    y_test[i] = y_test_mat[i,0]  # testing class labels\n",
    "\n",
    "\n",
    "print('x_train_shape:',x_train.shape)\n",
    "print('x_test_shape:',x_test.shape)\n",
    "\n",
    "print('y_train_shape:',y_train.shape)\n",
    "print('y_test_shape:',y_test.shape)\n",
    "\n",
    "\n",
    "y_train = to_categorical(y_train, num_classes=2)\n",
    "\n",
    "#y_test = to_categorical(y_test, num_classes=2)\n",
    "\n",
    "print('y_train_shape:',y_train.shape)\n",
    "print('y_test_shape:',y_test.shape)\n",
    "\n",
    "\n",
    "x_train = x_train.reshape(x_train.shape[0], x_train.shape[1], x_train.shape[2], 1)\n",
    "x_test = x_test.reshape(x_test.shape[0], x_test.shape[1], x_test.shape[2], 1)\n",
    "\n",
    "input_shape = (x_train.shape[1], x_train.shape[2], 1)\n",
    "\n",
    "\n",
    "x_patient_2 = x_test[2,:,:,0]\n",
    "\n",
    "\n",
    "plt.figure()\n",
    "plt.imshow(x_patient_2)\n",
    "plt.title('Seizure outcome connectome with density'+' '+density)\n",
    "plt.show()\n"
   ]
  },
  {
   "cell_type": "code",
   "execution_count": 14,
   "metadata": {},
   "outputs": [
    {
     "name": "stdout",
     "output_type": "stream",
     "text": [
      "8016\n",
      "(8016,)\n",
      "(8016,)\n",
      "[[9.9999523e-01 4.7802782e-06]\n",
      " [1.7304450e-02 9.8269558e-01]\n",
      " [9.3660438e-01 6.3395597e-02]\n",
      " ...\n",
      " [1.5460525e-08 1.0000000e+00]\n",
      " [2.5867692e-01 7.4132305e-01]\n",
      " [1.9479334e-07 9.9999976e-01]]\n"
     ]
    }
   ],
   "source": [
    "y_test_pred = RN_model.predict(x_test)\n",
    "\n",
    "y_pred = np.zeros(y_test.shape[0],dtype=np.float32)\n",
    "\n",
    "\n",
    "\n",
    "print(y_test.shape[0])\n",
    "\n",
    "print(y_pred.shape)\n",
    "print(y_test.shape)\n",
    "print(y_test_pred)"
   ]
  },
  {
   "cell_type": "code",
   "execution_count": 15,
   "metadata": {},
   "outputs": [
    {
     "name": "stdout",
     "output_type": "stream",
     "text": [
      "(8016,)\n",
      "[0. 1. 0. ... 1. 1. 1.]\n",
      "[0. 1. 0. ... 1. 1. 1.]\n"
     ]
    }
   ],
   "source": [
    "for i in range(len(y_test)):\n",
    "    if y_test_pred[i][0] >= y_test_pred[i][1]:\n",
    "        y_pred[i] = 0.\n",
    "    else:\n",
    "        y_pred[i] = 1.\n",
    "\n",
    "print(y_pred.shape)\n",
    "print(y_pred)\n",
    "print(y_test)"
   ]
  },
  {
   "cell_type": "code",
   "execution_count": 16,
   "metadata": {},
   "outputs": [
    {
     "name": "stdout",
     "output_type": "stream",
     "text": [
      "F1 score:  [0.89662202 0.92252292]\n",
      "              precision    recall  f1-score   support\n",
      "\n",
      "         0.0       0.92      0.88      0.90      3507\n",
      "         1.0       0.91      0.94      0.92      4509\n",
      "\n",
      "   micro avg       0.91      0.91      0.91      8016\n",
      "   macro avg       0.91      0.91      0.91      8016\n",
      "weighted avg       0.91      0.91      0.91      8016\n",
      "\n"
     ]
    }
   ],
   "source": [
    "score = f1_score(y_test, y_pred, average=None)\n",
    "print('F1 score: ', score)\n",
    "\n",
    "print(classification_report(y_test, y_pred))"
   ]
  },
  {
   "cell_type": "code",
   "execution_count": 65,
   "metadata": {},
   "outputs": [
    {
     "name": "stdout",
     "output_type": "stream",
     "text": [
      "[   0    1    5 ... 8013 8014 8015]\n",
      "[0. 1. 1. ... 1. 1. 1.]\n",
      "(array([   0,    5,    6, ..., 6085, 6086, 6087]),)\n",
      "[0. 1. 1. ... 1. 1. 1.]\n"
     ]
    }
   ],
   "source": [
    "\n",
    "\n",
    "abs_error_arr = np.where(y_pred == y_test)\n",
    "print(abs_error_arr[0])\n",
    "print(y_pred[abs_error_arr[0]])\n",
    "\n",
    "ab_ind = np.where(y_pred[abs_error_arr[0]] == 0.)\n",
    "print(ab_ind)\n",
    "\n",
    "print(y_pred[ab_ind])"
   ]
  },
  {
   "cell_type": "code",
   "execution_count": 27,
   "metadata": {},
   "outputs": [
    {
     "name": "stdout",
     "output_type": "stream",
     "text": [
      "(8016,)\n"
     ]
    },
    {
     "ename": "ValueError",
     "evalue": "setting an array element with a sequence.",
     "output_type": "error",
     "traceback": [
      "\u001b[0;31m---------------------------------------------------------------------------\u001b[0m",
      "\u001b[0;31mValueError\u001b[0m                                Traceback (most recent call last)",
      "\u001b[0;32m<ipython-input-27-2fb50cc21469>\u001b[0m in \u001b[0;36m<module>\u001b[0;34m\u001b[0m\n\u001b[1;32m      5\u001b[0m \u001b[0;34m\u001b[0m\u001b[0m\n\u001b[1;32m      6\u001b[0m \u001b[0;32mfor\u001b[0m \u001b[0mi\u001b[0m \u001b[0;32min\u001b[0m \u001b[0mrange\u001b[0m\u001b[0;34m(\u001b[0m\u001b[0mlen\u001b[0m\u001b[0;34m(\u001b[0m\u001b[0my_test\u001b[0m\u001b[0;34m)\u001b[0m\u001b[0;34m)\u001b[0m\u001b[0;34m:\u001b[0m\u001b[0;34m\u001b[0m\u001b[0;34m\u001b[0m\u001b[0m\n\u001b[0;32m----> 7\u001b[0;31m     \u001b[0mabs_error_arr\u001b[0m\u001b[0;34m[\u001b[0m\u001b[0mi\u001b[0m\u001b[0;34m]\u001b[0m \u001b[0;34m=\u001b[0m \u001b[0mnp\u001b[0m\u001b[0;34m.\u001b[0m\u001b[0mabs\u001b[0m\u001b[0;34m(\u001b[0m\u001b[0my_test\u001b[0m\u001b[0;34m[\u001b[0m\u001b[0mi\u001b[0m\u001b[0;34m]\u001b[0m \u001b[0;34m-\u001b[0m \u001b[0my_test_pred\u001b[0m\u001b[0;34m[\u001b[0m\u001b[0mi\u001b[0m\u001b[0;34m]\u001b[0m\u001b[0;34m)\u001b[0m\u001b[0;34m\u001b[0m\u001b[0;34m\u001b[0m\u001b[0m\n\u001b[0m\u001b[1;32m      8\u001b[0m \u001b[0;34m\u001b[0m\u001b[0m\n\u001b[1;32m      9\u001b[0m \u001b[0msorted_idxs\u001b[0m \u001b[0;34m=\u001b[0m \u001b[0mnp\u001b[0m\u001b[0;34m.\u001b[0m\u001b[0margsort\u001b[0m\u001b[0;34m(\u001b[0m\u001b[0mabs_error_arr\u001b[0m\u001b[0;34m,\u001b[0m\u001b[0maxis\u001b[0m\u001b[0;34m=\u001b[0m\u001b[0;36m0\u001b[0m\u001b[0;34m)\u001b[0m\u001b[0;34m\u001b[0m\u001b[0;34m\u001b[0m\u001b[0m\n",
      "\u001b[0;31mValueError\u001b[0m: setting an array element with a sequence."
     ]
    }
   ],
   "source": [
    "\n",
    "abs_error_arr = np.zeros((len(y_test),),dtype=np.float32)\n",
    "\n",
    "print(abs_error_arr.shape)\n",
    "\n",
    "for i in range(len(y_test)):\n",
    "    if y_pred[i] == y_test[i]:\n",
    "        \n",
    "    abs_error_arr[i] = np.abs(y_test[i] - y_test_pred[i])\n",
    "    \n",
    "sorted_idxs = np.argsort(abs_error_arr,axis=0)\n",
    "sorted_abs_error_arr = np.sort(abs_error_arr,axis=0)"
   ]
  },
  {
   "cell_type": "code",
   "execution_count": 10,
   "metadata": {},
   "outputs": [
    {
     "name": "stdout",
     "output_type": "stream",
     "text": [
      "8016\n",
      "8016\n",
      "[[1. 0.]\n",
      " [0. 1.]\n",
      " [1. 0.]\n",
      " ...\n",
      " [0. 1.]\n",
      " [0. 1.]\n",
      " [0. 1.]]\n",
      "[[5.8566052e-01 4.1433945e-01]\n",
      " [1.3477230e-04 9.9986517e-01]\n",
      " [1.3211727e-03 9.9867886e-01]\n",
      " ...\n",
      " [5.0662144e-13 1.0000000e+00]\n",
      " [1.3034920e-05 9.9998701e-01]\n",
      " [1.9384085e-11 1.0000000e+00]]\n"
     ]
    }
   ],
   "source": [
    "print(len(y_test))\n",
    "print(len(y_test_pred))\n",
    "\n",
    "print(y_test)\n",
    "print(y_test_pred)"
   ]
  },
  {
   "cell_type": "markdown",
   "metadata": {},
   "source": [
    "## Print layer names from pre-trained model"
   ]
  },
  {
   "cell_type": "code",
   "execution_count": 7,
   "metadata": {},
   "outputs": [
    {
     "name": "stdout",
     "output_type": "stream",
     "text": [
      "  0 input_1   \n",
      "  1 conv2d_1  \n",
      "  2 leaky_re_lu_1\n",
      "  3 max_pooling2d_1\n",
      "  4 batch_normalization_1\n",
      "  5 conv2d_2  \n",
      "  6 leaky_re_lu_2\n",
      "  7 max_pooling2d_2\n",
      "  8 batch_normalization_2\n",
      "  9 conv2d_3  \n",
      " 10 leaky_re_lu_3\n",
      " 11 max_pooling2d_3\n",
      " 12 batch_normalization_3\n",
      " 13 conv2d_4  \n",
      " 14 leaky_re_lu_4\n",
      " 15 max_pooling2d_4\n",
      " 16 batch_normalization_4\n",
      " 17 lambda_1  \n",
      " 18 lambda_2  \n",
      " 19 lambda_4  \n",
      " 20 lambda_3  \n",
      " 21 concatenate_1\n",
      " 22 dense_1   \n",
      " 23 leaky_re_lu_5\n",
      " 24 dense_2   \n",
      " 25 leaky_re_lu_6\n",
      " 26 dense_3   \n",
      " 27 leaky_re_lu_7\n",
      " 28 dense_4   \n",
      " 29 leaky_re_lu_8\n",
      " 30 average_1 \n",
      " 31 dense_5   \n",
      " 32 leaky_re_lu_9\n",
      " 33 dropout_1 \n",
      " 34 dense_6   \n",
      " 35 leaky_re_lu_10\n",
      " 36 dropout_2 \n",
      " 37 dense_7   \n",
      " 38 leaky_re_lu_11\n",
      " 39 dense_8   \n",
      "dense_8\n"
     ]
    }
   ],
   "source": [
    "for ilayer, layer in enumerate(RN_model.layers):\n",
    "    print('{:3.0f} {:10}'.format(ilayer, layer.name))\n",
    "\n",
    "final_layer = RN_model.layers[-1]    \n",
    "print(final_layer.name)"
   ]
  },
  {
   "cell_type": "markdown",
   "metadata": {},
   "source": [
    "## Read the connectome test matrix on which we want to calculate the activation map"
   ]
  },
  {
   "cell_type": "code",
   "execution_count": 10,
   "metadata": {},
   "outputs": [
    {
     "name": "stdout",
     "output_type": "stream",
     "text": [
      "(1, 116, 116, 1)\n",
      "(116, 116)\n",
      "(116, 116, 1)\n",
      "0.99324965\n"
     ]
    }
   ],
   "source": [
    "# Connectome matrix of test patient\n",
    "x_pat = x_test[21,:,:,0]\n",
    "#x_pat = x_train[10,:,:,0]\n",
    "x_pat_3 = x_pat[np.newaxis,:,:,np.newaxis]\n",
    "print(x_pat_3.shape)\n",
    "y_pred = RN_model.predict(x_pat_3)\n",
    "img = x_pat\n",
    "print(img.shape)\n",
    "img = img.reshape(x_test.shape[1], x_test.shape[2], 1) # here img forms the seed_image for visualization\n",
    "print(img.shape)\n",
    "\n",
    "print(y_pred[0][0])"
   ]
  },
  {
   "cell_type": "markdown",
   "metadata": {},
   "source": [
    "# GRAD-CAM"
   ]
  },
  {
   "cell_type": "markdown",
   "metadata": {},
   "source": [
    "## Grad-CAM implementation from scratch"
   ]
  },
  {
   "cell_type": "code",
   "execution_count": 84,
   "metadata": {},
   "outputs": [],
   "source": [
    "from vis.utils import utils\n",
    "from vis.visualization import visualize_cam, visualize_saliency, visualize_activation\n",
    "import keras.backend as K\n",
    "from scipy.ndimage.interpolation import zoom"
   ]
  },
  {
   "cell_type": "code",
   "execution_count": 85,
   "metadata": {},
   "outputs": [
    {
     "name": "stdout",
     "output_type": "stream",
     "text": [
      "13\n",
      "Tensor(\"conv2d_4_5/BiasAdd:0\", shape=(?, 7, 7, 32), dtype=float32)\n"
     ]
    }
   ],
   "source": [
    "# select score of interest - here only 1 expressive score - hence class_idx = 0\n",
    "class_idx = 1\n",
    "seed_input = img\n",
    "\n",
    "# feature map from the final convolutional layer\n",
    "#final_fmap_idx = utils.find_layer_idx(RN_model, 'conv2d_1')\n",
    "#final_fmap_idx = utils.find_layer_idx(RN_model, 'max_pooling2d_1')\n",
    "\n",
    "#final_fmap_idx = utils.find_layer_idx(RN_model, 'conv2d_2')\n",
    "#final_fmap_idx = utils.find_layer_idx(RN_model, 'max_pooling2d_2')\n",
    "\n",
    "#final_fmap_idx = utils.find_layer_idx(RN_model, 'conv2d_3')\n",
    "#final_fmap_idx = utils.find_layer_idx(RN_model, 'max_pooling2d_3')\n",
    "\n",
    "final_fmap_idx = utils.find_layer_idx(RN_model, 'conv2d_4')\n",
    "#final_fmap_idx = utils.find_layer_idx(RN_model, 'max_pooling2d_4')\n",
    "\n",
    "print(final_fmap_idx)\n",
    "penultimate_output = RN_model.layers[final_fmap_idx].output\n",
    "print(penultimate_output)\n"
   ]
  },
  {
   "cell_type": "code",
   "execution_count": 86,
   "metadata": {},
   "outputs": [
    {
     "name": "stdout",
     "output_type": "stream",
     "text": [
      "Tensor(\"input_1_5:0\", shape=(?, 116, 116, 1), dtype=float32)\n",
      "<keras.backend.tensorflow_backend.Function object at 0x7f2fa40f0ef0>\n"
     ]
    }
   ],
   "source": [
    "layer_input = RN_model.input\n",
    "print(layer_input)\n",
    "fmap_func = K.function([layer_input],[penultimate_output])\n",
    "print(fmap_func)"
   ]
  },
  {
   "cell_type": "code",
   "execution_count": 87,
   "metadata": {},
   "outputs": [
    {
     "name": "stdout",
     "output_type": "stream",
     "text": [
      "(1, 7, 7, 32)\n"
     ]
    }
   ],
   "source": [
    "fmap = fmap_func([img[np.newaxis,...]])[0]\n",
    "print(fmap.shape)"
   ]
  },
  {
   "cell_type": "code",
   "execution_count": 88,
   "metadata": {},
   "outputs": [
    {
     "data": {
      "text/plain": [
       "<matplotlib.image.AxesImage at 0x7f2fa4092240>"
      ]
     },
     "execution_count": 88,
     "metadata": {},
     "output_type": "execute_result"
    },
    {
     "data": {
      "image/png": "[encoded data removed]",
      "text/plain": [
       "<Figure size 432x288 with 1 Axes>"
      ]
     },
     "metadata": {
      "needs_background": "light"
     },
     "output_type": "display_data"
    }
   ],
   "source": [
    "img1 = fmap[0,:,:,15]\n",
    "#img2 = img1.T\n",
    "\n",
    "#img3 = img1 - img2\n",
    "plt.imshow(img1)\n",
    "#plt.imshow(img2)\n",
    "#plt.imshow(img3)\n",
    "#print(img3.shape)"
   ]
  },
  {
   "cell_type": "code",
   "execution_count": 89,
   "metadata": {},
   "outputs": [
    {
     "name": "stdout",
     "output_type": "stream",
     "text": [
      "Tensor(\"input_1_5:0\", shape=(?, 116, 116, 1), dtype=float32)\n"
     ]
    }
   ],
   "source": [
    "# define derivative d(loss^c) / d (A^k), k = 1,2,....32\n",
    "layer_input = RN_model.input\n",
    "print(layer_input)"
   ]
  },
  {
   "cell_type": "code",
   "execution_count": 90,
   "metadata": {},
   "outputs": [
    {
     "name": "stdout",
     "output_type": "stream",
     "text": [
      "Tensor(\"strided_slice_16:0\", shape=(?,), dtype=float32)\n"
     ]
    }
   ],
   "source": [
    "\n",
    "\n",
    "layer_idx = utils.find_layer_idx(RN_model,'dense_8')\n",
    "# This model is using linear activation for the final layer\n",
    "loss = RN_model.layers[layer_idx].output[...,class_idx]\n",
    "print(loss)"
   ]
  },
  {
   "cell_type": "code",
   "execution_count": 91,
   "metadata": {},
   "outputs": [],
   "source": [
    "# Swap softmax with linear\n",
    "RN_model.layers[layer_idx].activation = keras.activations.linear\n",
    "RN_model = utils.apply_modifications(RN_model)"
   ]
  },
  {
   "cell_type": "code",
   "execution_count": 92,
   "metadata": {},
   "outputs": [
    {
     "name": "stdout",
     "output_type": "stream",
     "text": [
      "Tensor(\"gradients_7/leaky_re_lu_4_5/LeakyRelu_grad/LeakyReluGrad:0\", shape=(?, 7, 7, 32), dtype=float32)\n"
     ]
    }
   ],
   "source": [
    "# calculate gradients\n",
    "grad_wrt_fmap = K.gradients(loss,penultimate_output)[0]\n",
    "print(grad_wrt_fmap)"
   ]
  },
  {
   "cell_type": "code",
   "execution_count": 93,
   "metadata": {},
   "outputs": [
    {
     "name": "stdout",
     "output_type": "stream",
     "text": [
      "<keras.backend.tensorflow_backend.Function object at 0x7f2fa16a8ef0>\n"
     ]
    }
   ],
   "source": [
    "# define function to evaluate the gradient for a given input - output is numpy array\n",
    "# learning_phase is a flag - 0 = test, 1\n",
    "grad_wrt_fmap_func = K.function([layer_input,K.learning_phase()],[penultimate_output,grad_wrt_fmap])\n",
    "print(grad_wrt_fmap_func)"
   ]
  },
  {
   "cell_type": "code",
   "execution_count": 94,
   "metadata": {},
   "outputs": [
    {
     "name": "stdout",
     "output_type": "stream",
     "text": [
      "Feature Map shape:  (1, 7, 7, 32)\n",
      "Gradients shape:  (1, 7, 7, 32)\n"
     ]
    }
   ],
   "source": [
    "# evaluate the derivative function\n",
    "fmap_eval, grad_wrt_fmap_eval = grad_wrt_fmap_func([img[np.newaxis,...],0])\n",
    "print(\"Feature Map shape: \",fmap_eval.shape)\n",
    "print(\"Gradients shape: \",grad_wrt_fmap_eval.shape)\n",
    "\n"
   ]
  },
  {
   "cell_type": "code",
   "execution_count": 95,
   "metadata": {},
   "outputs": [
    {
     "name": "stdout",
     "output_type": "stream",
     "text": [
      "(1, 7, 7, 32)\n"
     ]
    },
    {
     "data": {
      "text/plain": [
       "<matplotlib.image.AxesImage at 0x7f2fa13dbef0>"
      ]
     },
     "execution_count": 95,
     "metadata": {},
     "output_type": "execute_result"
    },
    {
     "data": {
      "image/png": "[encoded data removed]",
      "text/plain": [
       "<Figure size 432x288 with 1 Axes>"
      ]
     },
     "metadata": {
      "needs_background": "light"
     },
     "output_type": "display_data"
    }
   ],
   "source": [
    "# normalize the gradients by maximum value - add K.epsilon for numerical stability\n",
    "#grad_wrt_fmap_eval /= (np.max(grad_wrt_fmap_eval) + K.epsilon())\n",
    "print(grad_wrt_fmap_eval.shape)\n",
    "img2 = grad_wrt_fmap_eval[0,:,:,15]\n",
    "plt.imshow(img2)"
   ]
  },
  {
   "cell_type": "code",
   "execution_count": 96,
   "metadata": {},
   "outputs": [
    {
     "name": "stdout",
     "output_type": "stream",
     "text": [
      "(1, 1, 1, 32)\n"
     ]
    }
   ],
   "source": [
    "# obtain the weights alpha_k_c - reshape to bring it to the same shape as final fmap_eval - needed to multiply them\n",
    "alpha_k_c = grad_wrt_fmap_eval.mean(axis=(0,1,2)).reshape(1,1,1,-1)\n",
    "print(alpha_k_c.shape)"
   ]
  },
  {
   "cell_type": "code",
   "execution_count": 97,
   "metadata": {},
   "outputs": [
    {
     "data": {
      "image/png": "[encoded data removed]",
      "text/plain": [
       "<Figure size 1440x360 with 1 Axes>"
      ]
     },
     "metadata": {
      "needs_background": "light"
     },
     "output_type": "display_data"
    }
   ],
   "source": [
    "# visualize the weights - alpha_k_c\n",
    "plt.figure(figsize=(20,5))\n",
    "plt.plot(alpha_k_c.flatten())\n",
    "plt.xlabel(\"Feature Map at Final Convolutional Layer\")\n",
    "plt.ylabel(\"weights - alpha_k_c\")\n",
    "plt.title(\"The {}th feature map has the largest weight alpha_k_c\".format(np.argmax(alpha_k_c.flatten())))\n",
    "plt.show()"
   ]
  },
  {
   "cell_type": "code",
   "execution_count": 98,
   "metadata": {},
   "outputs": [
    {
     "data": {
      "image/png": "[encoded data removed]",
      "text/plain": [
       "<Figure size 432x288 with 1 Axes>"
      ]
     },
     "metadata": {
      "needs_background": "light"
     },
     "output_type": "display_data"
    }
   ],
   "source": [
    "#visualize 15th feature map wit the largest weight\n",
    "plt.imshow(fmap_eval[0,:,:,5])\n",
    "plt.title(\"feature map with largest weight alpha\")\n",
    "plt.show()"
   ]
  },
  {
   "cell_type": "code",
   "execution_count": 99,
   "metadata": {},
   "outputs": [
    {
     "data": {
      "text/plain": [
       "<matplotlib.image.AxesImage at 0x7f2fa12e1780>"
      ]
     },
     "execution_count": 99,
     "metadata": {},
     "output_type": "execute_result"
    },
    {
     "data": {
      "image/png": "[encoded data removed]",
      "text/plain": [
       "<Figure size 432x288 with 1 Axes>"
      ]
     },
     "metadata": {
      "needs_background": "light"
     },
     "output_type": "display_data"
    }
   ],
   "source": [
    "img1 = fmap_eval[0,:,:,5]\n",
    "img2 = grad_wrt_fmap_eval[0,:,:,15]\n",
    "plt.imshow(img1)\n",
    "plt.imshow(img2)"
   ]
  },
  {
   "cell_type": "code",
   "execution_count": 100,
   "metadata": {},
   "outputs": [
    {
     "name": "stdout",
     "output_type": "stream",
     "text": [
      "(7, 7)\n"
     ]
    }
   ],
   "source": [
    "# calculate the grad-ram activation map\n",
    "L_c_grad_ram = np.maximum(np.sum(alpha_k_c*fmap_eval,axis=-1),0).squeeze()\n",
    "print(L_c_grad_ram.shape)"
   ]
  },
  {
   "cell_type": "code",
   "execution_count": 101,
   "metadata": {},
   "outputs": [
    {
     "name": "stdout",
     "output_type": "stream",
     "text": [
      "[16.57142857 16.57142857]\n"
     ]
    }
   ],
   "source": [
    "# upsampling the ram to match input size\n",
    "scale_factor = np.array(img.shape[:-1])/np.array(L_c_grad_ram.shape)\n",
    "print(scale_factor)"
   ]
  },
  {
   "cell_type": "code",
   "execution_count": 102,
   "metadata": {},
   "outputs": [
    {
     "name": "stdout",
     "output_type": "stream",
     "text": [
      "(116, 116)\n"
     ]
    }
   ],
   "source": [
    "_grad_ram = zoom(L_c_grad_ram,scale_factor,order=3) #uses spline interpolation\n",
    "print(_grad_ram.shape)"
   ]
  },
  {
   "cell_type": "code",
   "execution_count": 103,
   "metadata": {},
   "outputs": [
    {
     "name": "stdout",
     "output_type": "stream",
     "text": [
      "(116, 116)\n"
     ]
    }
   ],
   "source": [
    "# normalize to range in 0 to 1 - for visualization \n",
    "arr_min, arr_max = np.min(_grad_ram), np.max(_grad_ram)\n",
    "grad_ram = (_grad_ram - arr_min) / (arr_max - arr_min + K.epsilon())\n",
    "grad_ram = (_grad_ram) / (arr_max + K.epsilon())\n",
    "grad_ram = _grad_ram\n",
    "print(grad_ram.shape)"
   ]
  },
  {
   "cell_type": "code",
   "execution_count": 104,
   "metadata": {},
   "outputs": [
    {
     "data": {
      "image/png": "[encoded data removed]",
      "text/plain": [
       "<Figure size 432x288 with 1 Axes>"
      ]
     },
     "metadata": {
      "needs_background": "light"
     },
     "output_type": "display_data"
    },
    {
     "name": "stdout",
     "output_type": "stream",
     "text": [
      "Original grad_ram Shape:  (7, 7)\n"
     ]
    }
   ],
   "source": [
    "# visualize L_c_gradram\n",
    "plt.imshow(L_c_grad_ram)\n",
    "plt.title(\"L_c_Grad_Ram\")\n",
    "plt.show()\n",
    "\n",
    "print(\"Original grad_ram Shape: \", L_c_grad_ram.shape)"
   ]
  },
  {
   "cell_type": "code",
   "execution_count": 105,
   "metadata": {},
   "outputs": [
    {
     "data": {
      "image/png": "[encoded data removed]",
      "text/plain": [
       "<Figure size 432x288 with 1 Axes>"
      ]
     },
     "metadata": {
      "needs_background": "light"
     },
     "output_type": "display_data"
    },
    {
     "name": "stdout",
     "output_type": "stream",
     "text": [
      "Upsampled grad ram Shape:  (116, 116)\n"
     ]
    }
   ],
   "source": [
    "# visualize upsampled grad_ram\n",
    "plt.imshow(grad_ram)\n",
    "plt.title(\"Upsampled Grad_Ram\")\n",
    "plt.show()\n",
    "\n",
    "print(\"Upsampled grad ram Shape: \", grad_ram.shape)"
   ]
  },
  {
   "cell_type": "markdown",
   "metadata": {},
   "source": [
    "## Functional implementation - grad-ram as a tool/function"
   ]
  },
  {
   "cell_type": "code",
   "execution_count": 106,
   "metadata": {},
   "outputs": [],
   "source": [
    "\n",
    "penultimate_layer_idx = utils.find_layer_idx(RN_model,'conv2d_4')\n",
    "seed_input = img\n",
    "filter_indices=1"
   ]
  },
  {
   "cell_type": "code",
   "execution_count": 107,
   "metadata": {},
   "outputs": [],
   "source": [
    "# calculate grad-ram\n",
    "grad_ram_vis = visualize_cam(RN_model, layer_idx, filter_indices, seed_input, \n",
    "                         penultimate_layer_idx = penultimate_layer_idx,\n",
    "                         backprop_modifier = 'guided',\n",
    "                         grad_modifier = None) "
   ]
  },
  {
   "cell_type": "code",
   "execution_count": 108,
   "metadata": {},
   "outputs": [
    {
     "data": {
      "text/plain": [
       "<matplotlib.image.AxesImage at 0x7f2f9e701860>"
      ]
     },
     "execution_count": 108,
     "metadata": {},
     "output_type": "execute_result"
    },
    {
     "data": {
      "image/png": "[encoded data removed]",
      "text/plain": [
       "<Figure size 432x288 with 1 Axes>"
      ]
     },
     "metadata": {
      "needs_background": "light"
     },
     "output_type": "display_data"
    }
   ],
   "source": [
    "plt.imshow(grad_ram_vis)\n",
    "#plt.imshow(grad_ram_vis.T)"
   ]
  },
  {
   "cell_type": "code",
   "execution_count": 36,
   "metadata": {},
   "outputs": [
    {
     "data": {
      "image/png": "[encoded data removed]",
      "text/plain": [
       "<Figure size 1008x360 with 3 Axes>"
      ]
     },
     "metadata": {
      "needs_background": "light"
     },
     "output_type": "display_data"
    }
   ],
   "source": [
    "def plot_map(grads):\n",
    "    fig, axes = plt.subplots(1,2,figsize=(14,5))\n",
    "    axes[0].imshow(x_pat)    \n",
    "    #axes[1].imshow(x_pat)\n",
    "    grads_t = grads.T\n",
    "    grads_final = (grads + grads_t)\n",
    "    i = axes[1].imshow(grads_final,cmap=\"jet\",alpha=0.9)\n",
    "    fig.colorbar(i,ticks=[0.0,0.2,0.4,0.6,0.8,1.0])\n",
    "    \n",
    "plot_map(grad_ram_vis)"
   ]
  },
  {
   "cell_type": "code",
   "execution_count": 37,
   "metadata": {},
   "outputs": [
    {
     "ename": "AssertionError",
     "evalue": "",
     "output_type": "error",
     "traceback": [
      "\u001b[0;31m---------------------------------------------------------------------------\u001b[0m",
      "\u001b[0;31mAssertionError\u001b[0m                            Traceback (most recent call last)",
      "\u001b[0;32m<ipython-input-37-abae88094c78>\u001b[0m in \u001b[0;36m<module>\u001b[0;34m\u001b[0m\n\u001b[0;32m----> 1\u001b[0;31m \u001b[0;32massert\u001b[0m \u001b[0mnp\u001b[0m\u001b[0;34m.\u001b[0m\u001b[0mall\u001b[0m\u001b[0;34m(\u001b[0m\u001b[0mnp\u001b[0m\u001b[0;34m.\u001b[0m\u001b[0mabs\u001b[0m\u001b[0;34m(\u001b[0m\u001b[0mgrad_ram\u001b[0m  \u001b[0;34m-\u001b[0m \u001b[0mgrad_ram_vis\u001b[0m\u001b[0;34m)\u001b[0m \u001b[0;34m<\u001b[0m \u001b[0;36m0.0001\u001b[0m\u001b[0;34m)\u001b[0m\u001b[0;34m\u001b[0m\u001b[0;34m\u001b[0m\u001b[0m\n\u001b[0m",
      "\u001b[0;31mAssertionError\u001b[0m: "
     ]
    }
   ],
   "source": [
    "assert np.all(np.abs(grad_ram  - grad_ram_vis) < 0.0001)"
   ]
  },
  {
   "cell_type": "code",
   "execution_count": 38,
   "metadata": {},
   "outputs": [
    {
     "data": {
      "image/png": "[encoded data removed]",
      "text/plain": [
       "<Figure size 1008x360 with 3 Axes>"
      ]
     },
     "metadata": {
      "needs_background": "light"
     },
     "output_type": "display_data"
    }
   ],
   "source": [
    "plot_map(np.abs(grad_ram - grad_ram_vis))"
   ]
  },
  {
   "cell_type": "code",
   "execution_count": null,
   "metadata": {},
   "outputs": [],
   "source": []
  }
 ],
 "metadata": {
  "kernelspec": {
   "display_name": "dl4cv",
   "language": "python",
   "name": "dl4cv"
  },
  "language_info": {
   "codemirror_mode": {
    "name": "ipython",
    "version": 3
   },
   "file_extension": ".py",
   "mimetype": "text/x-python",
   "name": "python",
   "nbconvert_exporter": "python",
   "pygments_lexer": "ipython3",
   "version": "3.6.7"
  }
 },
 "nbformat": 4,
 "nbformat_minor": 2
}
